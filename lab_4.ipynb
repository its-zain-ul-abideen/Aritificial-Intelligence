{
  "nbformat": 4,
  "nbformat_minor": 0,
  "metadata": {
    "colab": {
      "provenance": [],
      "authorship_tag": "ABX9TyORMHY2iyjzgUtnZoGexKNB",
      "include_colab_link": true
    },
    "kernelspec": {
      "name": "python3",
      "display_name": "Python 3"
    },
    "language_info": {
      "name": "python"
    }
  },
  "cells": [
    {
      "cell_type": "markdown",
      "metadata": {
        "id": "view-in-github",
        "colab_type": "text"
      },
      "source": [
        "<a href=\"https://colab.research.google.com/github/its-zain-ul-abideen/Aritificial-Intelligence/blob/main/lab_4.ipynb\" target=\"_parent\"><img src=\"https://colab.research.google.com/assets/colab-badge.svg\" alt=\"Open In Colab\"/></a>"
      ]
    },
    {
      "cell_type": "markdown",
      "source": [
        "Activity 1:"
      ],
      "metadata": {
        "id": "HQ2q5LtnLr0u"
      }
    },
    {
      "cell_type": "code",
      "source": [
        "class node:\n",
        "  def __init__(self,state,parent,actions,totalcost):\n",
        "    self.state = state\n",
        "    self.parent = parent\n",
        "    self.actions = actions\n",
        "    self.totalcost = totalcost\n",
        "    \n",
        "graph = {'A': node('A',None,['B','C','E'],None),\n",
        "           'B': node('B',None,['A','D','E'],None),\n",
        "           'C': node('C',None,['A','F','G'],None),\n",
        "           'D': node('D',None,['B','E'],None),\n",
        "           'E': node('E',None,['A','B','D'],None),\n",
        "           'F': node('F',None,['C'],None),\n",
        "           'G': node('G',None,['C'],None)\n",
        "          }\n",
        "\n",
        "  "
      ],
      "metadata": {
        "id": "CzCdKwBPLfYG"
      },
      "execution_count": 18,
      "outputs": []
    },
    {
      "cell_type": "markdown",
      "source": [
        "Activity 2:"
      ],
      "metadata": {
        "id": "LNIASFYaLd3C"
      }
    },
    {
      "cell_type": "code",
      "execution_count": 20,
      "metadata": {
        "colab": {
          "base_uri": "https://localhost:8080/"
        },
        "id": "RMZ3Q_4rJE0j",
        "outputId": "58156a0a-6d13-4120-8699-9a398b5b4b01"
      },
      "outputs": [
        {
          "output_type": "stream",
          "name": "stdout",
          "text": [
            "['A', 'E', 'D']\n"
          ]
        }
      ],
      "source": [
        "class node:\n",
        "  def __init__(self,state,parent,actions,totalcost):\n",
        "    self.state = state\n",
        "    self.parent = parent\n",
        "    self.actions = actions\n",
        "    self.totalcost = totalcost\n",
        "\n",
        "def actionSequence(graph,initialstate,goalstate):\n",
        "  solution = [goalstate]\n",
        "  currentparent = graph[goalstate].parent\n",
        "  \n",
        "  while currentparent != None:\n",
        "    \n",
        "    solution.append(currentparent)\n",
        "    currentparent = graph[currentparent].parent\n",
        "\n",
        "  solution.reverse()\n",
        "  return solution\n",
        "\n",
        "def dfs():\n",
        "  initialstate = 'A'\n",
        "  goalstate = 'D'\n",
        "  graph = {'A': node('A',None,['B','C','E'],None),\n",
        "           'B': node('B',None,['A','D','E'],None),\n",
        "           'C': node('C',None,['A','F','G'],None),\n",
        "           'D': node('D',None,['B','E'],None),\n",
        "           'E': node('E',None,['A','B','D'],None),\n",
        "           'F': node('F',None,['C'],None),\n",
        "           'G': node('G',None,['C'],None)\n",
        "          }\n",
        "  frontier = [initialstate]\n",
        "  explored = []\n",
        "  currentChildren = 0\n",
        "  while frontier:\n",
        "    currentnode = frontier.pop(len(frontier)-1)\n",
        "    explored.append(currentnode)\n",
        "    for child in graph[currentnode].actions:\n",
        "      if child not in frontier and child not in explored:\n",
        "        graph[child].parent = currentnode\n",
        "        if graph[child].state == goalstate:\n",
        "          return actionSequence(graph,initialstate,goalstate)\n",
        "        currentChildren=currentChildren+1\n",
        "        frontier.append(child)\n",
        "  if currentChildren == 0 :\n",
        "    del explored[len(explored)-1]\n",
        "solution = dfs()\n",
        "print(solution)\n",
        "\n",
        "  "
      ]
    },
    {
      "cell_type": "markdown",
      "source": [
        "Activity 3:"
      ],
      "metadata": {
        "id": "qz2XmBw2LPwb"
      }
    },
    {
      "cell_type": "code",
      "source": [
        "class node:\n",
        "  def __init__(self,state,parent,actions,totalcost):\n",
        "    self.state = state\n",
        "    self.parent = parent\n",
        "    self.actions = actions\n",
        "    self.totalcost = totalcost\n",
        "\n",
        "def actionSequence(graph,initialstate,goalstate):\n",
        "  solution = [goalstate]\n",
        "  currentparent = graph[goalstate].parent\n",
        "  \n",
        "  while currentparent != None:\n",
        "    \n",
        "    solution.append(currentparent)\n",
        "    currentparent = graph[currentparent].parent\n",
        "\n",
        "  solution.reverse()\n",
        "  return solution\n",
        "\n",
        "def bfs(initialstate,goalstate):\n",
        "  \n",
        "  graph = {'A': node('A',None,['B','C','E'],None),\n",
        "           'B': node('B',None,['A','D','E'],None),\n",
        "           'C': node('C',None,['A','F','G'],None),\n",
        "           'D': node('D',None,['B','E'],None),\n",
        "           'E': node('E',None,['A','B','D'],None),\n",
        "           'F': node('F',None,['C'],None),\n",
        "           'G': node('G',None,['C'],None)\n",
        "          }\n",
        "  frontier = [initialstate]\n",
        "  explored = []\n",
        "  while frontier:\n",
        "    currentnode = frontier.pop(0)\n",
        "    explored.append(currentnode)\n",
        "    for child in graph[currentnode].actions:\n",
        "      if child not in frontier and child not in explored:\n",
        "        graph[child].parent = currentnode\n",
        "        if graph[child].state == goalstate:\n",
        "          print(explored)\n",
        "          return actionSequence(graph,initialstate,goalstate)\n",
        "        frontier.append(child)\n",
        "solution = bfs('D','C')\n",
        "print(f'solution: {solution}')\n",
        "\n",
        "\n",
        "  "
      ],
      "metadata": {
        "colab": {
          "base_uri": "https://localhost:8080/"
        },
        "id": "wGTcPFCZMZmg",
        "outputId": "d5bd5a81-8e36-4719-ed4d-00ab6e618834"
      },
      "execution_count": 23,
      "outputs": [
        {
          "output_type": "stream",
          "name": "stdout",
          "text": [
            "['D', 'B', 'E', 'A']\n",
            "solution: ['D', 'B', 'A', 'C']\n"
          ]
        }
      ]
    },
    {
      "cell_type": "markdown",
      "source": [
        "Activity 4:"
      ],
      "metadata": {
        "id": "KK3nRsbWOFo-"
      }
    },
    {
      "cell_type": "code",
      "source": [
        "import math\n",
        "\n",
        "def findmin(frontier):\n",
        "  minV=math.inf\n",
        "  node=''\n",
        "  for i in frontier:\n",
        "    if minV>frontier[i][1]:\n",
        "      minV=frontier[i][1]\n",
        "      node = i\n",
        "  return node\n",
        "\n",
        "def actionSequence(graph,intialstate,goalstate):\n",
        "  solution = [goalstate]\n",
        "  currentparent=graph[goalstate].parent\n",
        "  while currentparent != None:\n",
        "    solution.append(currentparent)\n",
        "    currentparent = graph[currentparent].parent\n",
        "  solution.reverse()\n",
        "  return solution\n",
        "\n",
        "class node:\n",
        "  def __init__(self,state,parent,actions,totalcost):\n",
        "    self.state = state\n",
        "    self.parent = parent\n",
        "    self.actions = actions\n",
        "    self.totalcost = totalcost\n",
        "\n",
        "def UCS(initialstate,goalstate):\n",
        "  initialstate = 'C'\n",
        "  goalstate = 'B'\n",
        "  graph = {'A': node('A',None,[('B',6),('C',9),('E',1)],0),\n",
        "           'B': node('B',None,[('A',6),('D',3),('E',4)],0),\n",
        "           'C': node('C',None,[('A',9),('F',2),('G',3)],0),\n",
        "           'D': node('D',None,[('B',3),('E',5),('F',7)],0),\n",
        "           'E': node('E',None,[('A',1),('B',4),('D',5),('F',6)],0),\n",
        "           'F': node('F',None,[('C',2),('E',6),('D',7)],0),\n",
        "           'G': node('G',None,[('C',3)],0)\n",
        "          }\n",
        "  frontier = dict()\n",
        "  frontier[initialstate] = (None,0)\n",
        "  explored = []\n",
        "\n",
        "  while frontier:\n",
        "    currentnode = findmin(frontier)\n",
        "    del frontier[currentnode]\n",
        "    if graph[currentnode].state == goalstate:\n",
        "      return actionSequence(graph,initialstate,goalstate)\n",
        "    explored.append(currentnode)\n",
        "    for child in graph[currentnode].actions:\n",
        "      currentcost = child[1] + graph[currentnode].totalcost\n",
        "      if child[0] not in frontier and child[0] not in explored:\n",
        "        graph[child[0]].parent = currentnode\n",
        "        graph[child[0]].totalcost = currentcost\n",
        "        frontier[child[0]]=(graph[child[0]].parent,graph[child[0]].totalcost)\n",
        "      elif child[0] in frontier:\n",
        "        if frontier[child[0]][1] < currentcost:\n",
        "          graph[child[0]].parent = frontier[child[0]][0]\n",
        "          graph[child[0]].totalcost = frontier[child[0]][1]\n",
        "        else:\n",
        "          frontier[child[0]] = (currentnode,currentcost)\n",
        "          graph[child[0]].parent = frontier[child[0]][0]\n",
        "          graph[child[0]].totalcost = frontier[child[0]][1]\n",
        "          \n",
        "\n",
        "\n",
        "solution = UCS('C','B')\n",
        "print(solution)\n",
        "\n",
        "\n",
        "  "
      ],
      "metadata": {
        "colab": {
          "base_uri": "https://localhost:8080/"
        },
        "id": "pU0XKw7eOGnu",
        "outputId": "f17e04a0-ef38-43f2-850d-32aa7f0d39ca"
      },
      "execution_count": 21,
      "outputs": [
        {
          "output_type": "stream",
          "name": "stdout",
          "text": [
            "['C', 'F', 'D', 'B']\n"
          ]
        }
      ]
    },
    {
      "cell_type": "markdown",
      "source": [
        "Home Activity:"
      ],
      "metadata": {
        "id": "b82riehcfnxN"
      }
    },
    {
      "cell_type": "code",
      "source": [
        "import math\n",
        "\n",
        "def findmin(frontier):\n",
        "  minV=math.inf\n",
        "  node=''\n",
        "  for i in frontier:\n",
        "    if minV>frontier[i][1]:\n",
        "      minV=frontier[i][1]\n",
        "      node = i\n",
        "  return node\n",
        "\n",
        "def actionSequence(graph,intialstate,goalstate):\n",
        "  solution = [goalstate]\n",
        "  currentparent=graph[goalstate].parent\n",
        "  while currentparent != None:\n",
        "    solution.append(currentparent)\n",
        "    currentparent = graph[currentparent].parent\n",
        "  solution.reverse()\n",
        "  return solution\n",
        "\n",
        "class node:\n",
        "  def __init__(self,state,parent,actions,totalcost):\n",
        "    self.state = state\n",
        "    self.parent = parent\n",
        "    self.actions = actions\n",
        "    self.totalcost = totalcost\n",
        "\n",
        "def UCS(initialstate,goalstate):\n",
        "  \n",
        "\n",
        "\n",
        "  graph = {'Oradea': node('Oradea',None,[('Sibiu',151),('Zerlind',71)],0),\n",
        "           'Zerlind': node('Zerlind',None,[('Arad',75),('Oradea',71)],0),\n",
        "           'Arad': node('Arad',None,[('Sibiu',140),('Timisoara',118),('Zerlind',75)],0),\n",
        "           'Timisoara': node('Timisoara',None,[('Arad',118),('Lugoj',111)],0),\n",
        "           'Lugoj': node('Lugoj',None,[('Mehadia',70),('Timisoara',111)],0),\n",
        "           'Mehadia': node('Mehadia',None,[('Drobeta',75),('Lugoj',70)],0),\n",
        "           'Drobeta': node('Drobeta',None,[('Craiova',120),('Mehadia',75)],0),\n",
        "           'Craiova': node('Craiova',None,[('Drobeta',120),('Pitesti',138),('Rimnicu Vicea',146)],0),\n",
        "           'Rimnicu Vicea': node('Rimnicu Vicea',None,[('Craiova',146),('Pitesti',97), ('Sibiu',80)],0),\n",
        "           'Sibiu': node('Sibiu',None,[('Arad',140),('Oradea',151), ('Fagaras',99),('Rimnicu Vicea',80)],0),\n",
        "           'Fagaras': node('Fagaras',None,[('Bucharest',211),('Sibiu',99)],None),\n",
        "           'Pitesti': node('Pitesti',None,[('Bucharest',101),('Craiova',138),('Rimnicu Vicea',97)],0),\n",
        "           'Bucharest': node('Bucharest',None,[('Fagaras',211),('Pitesti',101),('Giurgiu',90),('Urziceni',85)],0),\n",
        "           'Giurgiu': node('Giurgiu',None,[('Bucharest',90)],0),\n",
        "           'Urziceni': node('Urziceni',None,[('Bucharest',85),('Hirsova',98),('Vaslui',142)],0),\n",
        "           'Hirsova': node('Hirsova',None,[('Eforie',86),('Urziceni',98)],0),\n",
        "           'Eforie': node('Eforie',None,[('Hirsova',86)],0),\n",
        "           'Vaslui': node('Vaslui',None,[('Iasi',92),('Urziceni',142)],0),\n",
        "           'Iasi': node('Iasi',None,[('Neamt',87),('Vaslui',92)],0),\n",
        "           'Neamt': node('Neamt',None,[('Iasi',87)],0),     \n",
        "          }\n",
        "  frontier = dict()\n",
        "  frontier[initialstate] = (None,0)\n",
        "  explored = []\n",
        "\n",
        "  while frontier:\n",
        "    currentnode = findmin(frontier)\n",
        "    del frontier[currentnode]\n",
        "    if graph[currentnode].state == goalstate:\n",
        "      return actionSequence(graph,initialstate,goalstate)\n",
        "    explored.append(currentnode)\n",
        "    for child in graph[currentnode].actions:\n",
        "      currentcost = child[1] + graph[currentnode].totalcost\n",
        "      if child[0] not in frontier and child[0] not in explored:\n",
        "        graph[child[0]].parent = currentnode\n",
        "        graph[child[0]].totalcost = currentcost\n",
        "        frontier[child[0]]=(graph[child[0]].parent,graph[child[0]].totalcost)\n",
        "      elif child[0] in frontier:\n",
        "        if frontier[child[0]][1] < currentcost:\n",
        "          graph[child[0]].parent = frontier[child[0]][0]\n",
        "          graph[child[0]].totalcost = frontier[child[0]][1]\n",
        "        else:\n",
        "          frontier[child[0]] = (currentnode,currentcost)\n",
        "          graph[child[0]].parent = frontier[child[0]][0]\n",
        "          graph[child[0]].totalcost = frontier[child[0]][1]\n",
        "          \n",
        "\n",
        "\n",
        "solution = UCS('Arad','Bucharest')\n",
        "print(solution)\n",
        "\n",
        "\n",
        "  "
      ],
      "metadata": {
        "colab": {
          "base_uri": "https://localhost:8080/"
        },
        "id": "txqnzXfGVh2I",
        "outputId": "5f3ada41-cdf8-483a-bac2-f83060fece5f"
      },
      "execution_count": 24,
      "outputs": [
        {
          "output_type": "stream",
          "name": "stdout",
          "text": [
            "['Arad', 'Sibiu', 'Rimnicu Vicea', 'Pitesti', 'Bucharest']\n"
          ]
        }
      ]
    }
  ]
}