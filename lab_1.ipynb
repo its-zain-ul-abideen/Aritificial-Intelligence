{
  "cells": [
    {
      "cell_type": "markdown",
      "metadata": {
        "id": "hCagWpJ6v9pt"
      },
      "source": [
        "**Name**: Zain Ul Abideen\n",
        "\n",
        "**Registeration**: FA20-BSE-059\n",
        "\n",
        "\n",
        "---\n",
        "\n",
        "\n",
        "\n",
        "**Activity 1:** Display numbers on screen using Python IDLE."
      ]
    },
    {
      "cell_type": "code",
      "execution_count": null,
      "metadata": {
        "colab": {
          "base_uri": "https://localhost:8080/"
        },
        "id": "YYNeQWCEwH2Z",
        "outputId": "c9cc3035-c353-4d8a-b5ea-3b0f1506344d"
      },
      "outputs": [
        {
          "name": "stdout",
          "output_type": "stream",
          "text": [
            "4321 4.55 344\n"
          ]
        }
      ],
      "source": [
        "print(4321,4.55,343+1)"
      ]
    },
    {
      "cell_type": "markdown",
      "metadata": {
        "id": "4YAH0rl8xIVT"
      },
      "source": [
        "**Activity 2:** Display strings on screen.\n"
      ]
    },
    {
      "cell_type": "code",
      "execution_count": null,
      "metadata": {
        "colab": {
          "base_uri": "https://localhost:8080/"
        },
        "id": "GWnNkLChxRzd",
        "outputId": "25f61173-1a0a-45dc-c946-d284457943e4"
      },
      "outputs": [
        {
          "name": "stdout",
          "output_type": "stream",
          "text": [
            "Asalamu Alikum\n",
            "I am an alien\n",
            "invading earth\n"
          ]
        }
      ],
      "source": [
        "print('''Asalamu Alikum\n",
        "I am an alien\n",
        "invading earth''')"
      ]
    },
    {
      "cell_type": "markdown",
      "metadata": {
        "id": "BLHZrTdDxoZh"
      },
      "source": [
        "**Activity 3:** Use Python as a calculator."
      ]
    },
    {
      "cell_type": "code",
      "execution_count": null,
      "metadata": {
        "colab": {
          "base_uri": "https://localhost:8080/"
        },
        "id": "fXbarq9xxtCJ",
        "outputId": "6470010d-1691-4b1b-b3e5-5f8005e6ccc5"
      },
      "outputs": [
        {
          "name": "stdout",
          "output_type": "stream",
          "text": [
            "11.0\n",
            "6.3\n",
            "7.548387096774193\n",
            "6.25\n",
            "-4\n",
            "4\n"
          ]
        }
      ],
      "source": [
        "print(22/2)\n",
        "print(4.1+2.2)\n",
        "print(23.4 / 3.1)\n",
        "print(2.5 * 2.5)\n",
        "print(8-12)\n",
        "print(2**2)"
      ]
    },
    {
      "cell_type": "markdown",
      "metadata": {
        "id": "hlRPi8mGyVQ5"
      },
      "source": [
        "**Activity 4:** Get an integer answer from division operation. Also get remainder of a division operation in the output."
      ]
    },
    {
      "cell_type": "code",
      "execution_count": null,
      "metadata": {
        "colab": {
          "base_uri": "https://localhost:8080/"
        },
        "id": "pVsXvkPTyZGT",
        "outputId": "e6d436df-3c60-4eb9-8cc0-395b3946550f"
      },
      "outputs": [
        {
          "name": "stdout",
          "output_type": "stream",
          "text": [
            "6.5\n",
            "6\n",
            "6\n",
            "2\n",
            "0\n"
          ]
        }
      ],
      "source": [
        "print( 26 / 4 )\n",
        "print( 26 // 4 )\n",
        "print(int(26 / 4))\n",
        "print(26 % 4)\n",
        "print(28 % 4)"
      ]
    },
    {
      "cell_type": "markdown",
      "metadata": {
        "id": "6lzSttJ3zLBX"
      },
      "source": [
        "**Activity 5:**\n",
        "Calculate 4^3, 4^10, 4^29, 4^150, 4^1000"
      ]
    },
    {
      "cell_type": "code",
      "execution_count": null,
      "metadata": {
        "colab": {
          "base_uri": "https://localhost:8080/"
        },
        "id": "85O627CnzWOf",
        "outputId": "f2ae60be-7d7d-45d8-d5fc-70bb523e685e"
      },
      "outputs": [
        {
          "name": "stdout",
          "output_type": "stream",
          "text": [
            "64\n",
            "1048576\n",
            "288230376151711744\n",
            "2037035976334486086268445688409378161051468393665936250636140449354381299763336706183397376\n",
            "114813069527425452423283320117768198402231770208869520047764273682576626139237031385665948631650626991844596463898746277344711896086305533142593135616665318539129989145312280000688779148240044871428926990063486244781615463646388363947317026040466353970904996558162398808944629605623311649536164221970332681344168908984458505602379484807914058900934776500429002716706625830522008132236281291761267883317206598995396418127021779858404042159853183251540889433902091920554957783589672039160081957216630582755380425583726015528348786419432054508915275783882625175435528800822842770817965453762184851149029376\n"
          ]
        }
      ],
      "source": [
        "print(4**3)\n",
        "print(4**10)\n",
        "print(4**29)\n",
        "print(4**150)\n",
        "print(4**1000)"
      ]
    },
    {
      "cell_type": "markdown",
      "metadata": {
        "id": "61TIj6jEzuAP"
      },
      "source": [
        "**Activity 6:**\n",
        "Write following math expressions. Solve them by hand using operators’ precedence.\n",
        "Calculate their answers using Python. Match the results."
      ]
    },
    {
      "cell_type": "code",
      "execution_count": null,
      "metadata": {
        "colab": {
          "base_uri": "https://localhost:8080/"
        },
        "id": "kpvWL23JzyBX",
        "outputId": "af4a56a1-979b-49ee-97d0-7fd7e383e0dd"
      },
      "outputs": [
        {
          "name": "stdout",
          "output_type": "stream",
          "text": [
            "20\n",
            "30\n",
            "28093077826734\n",
            "4\n",
            "16.0\n",
            "67\n"
          ]
        }
      ],
      "source": [
        "print(2+3*6)\n",
        "print((2+3)*6)\n",
        "print(48565878 * 578453)\n",
        "print(2    +   2)\n",
        "print((5 - 1) * ((7 + 1) / (3 - 1)))\n",
        "print(42 + 5 ** 2)"
      ]
    },
    {
      "cell_type": "markdown",
      "metadata": {
        "id": "iA54YPLv07cc"
      },
      "source": [
        "**Activity 7:**\n",
        "Combine numbers and text."
      ]
    },
    {
      "cell_type": "code",
      "execution_count": null,
      "metadata": {
        "colab": {
          "base_uri": "https://localhost:8080/"
        },
        "id": "wZ8sorqL09ia",
        "outputId": "72a6b0e5-a48a-4c8b-9bb0-6fc3a846aa62"
      },
      "outputs": [
        {
          "name": "stdout",
          "output_type": "stream",
          "text": [
            "Zain  59\n",
            "I am Zain and I have registered as 59\n"
          ]
        }
      ],
      "source": [
        "name = 'Zain'\n",
        "roll_no = 59\n",
        "print(name +'  '+ str(roll_no))\n",
        "statement = 'I am Zain and I have registered as %r' %roll_no\n",
        "print(statement)"
      ]
    },
    {
      "cell_type": "markdown",
      "metadata": {
        "id": "KnELUIeJ2vMX"
      },
      "source": [
        "**Activity 8:**\n",
        "Take input from the keyboard and use it in your program."
      ]
    },
    {
      "cell_type": "code",
      "execution_count": null,
      "metadata": {
        "colab": {
          "base_uri": "https://localhost:8080/"
        },
        "id": "ex2xBhQw2y6q",
        "outputId": "d798abc2-7d8b-4db8-fece-c7753df88fb2"
      },
      "outputs": [
        {
          "name": "stdout",
          "output_type": "stream",
          "text": [
            "Enter your name: Zain\n",
            "Hi  Zain\n",
            "Enter a number: 78\n",
            "You entered 78\n"
          ]
        }
      ],
      "source": [
        "name = input('Enter your name: ')\n",
        "print('Hi  ' + name)\n",
        "num = input('Enter a number: ')\n",
        "print('You entered ' + num)"
      ]
    },
    {
      "cell_type": "markdown",
      "metadata": {
        "id": "CFD8yvGiNKP6"
      },
      "source": [
        "**Activity 9:**Let us take an integer from user as input and check whether the given value is even or not."
      ]
    },
    {
      "cell_type": "code",
      "execution_count": null,
      "metadata": {
        "id": "z4W9UcIFNSji",
        "colab": {
          "base_uri": "https://localhost:8080/"
        },
        "outputId": "2a3ea37f-9fca-4452-bb88-4714d65dca70"
      },
      "outputs": [
        {
          "output_type": "stream",
          "name": "stdout",
          "text": [
            "Enter a number10\n",
            "it is an even number\n"
          ]
        }
      ],
      "source": [
        "Num = input('Enter a number')\n",
        "if int(num)%2 == 0:\n",
        "  print('it is an even number')"
      ]
    },
    {
      "cell_type": "markdown",
      "metadata": {
        "id": "3doi1tOC3zxl"
      },
      "source": [
        "**Activity 10:**\n",
        "Let us modify the code to take an integer from user as input and check whether the given value is even or odd. If the given value is not even then it means that it will be odd. So here we need to use if-else statement an demonstrated below."
      ]
    },
    {
      "cell_type": "code",
      "execution_count": null,
      "metadata": {
        "colab": {
          "base_uri": "https://localhost:8080/"
        },
        "id": "P7Foh_Ua32bc",
        "outputId": "85721c21-2a89-4831-d697-87f644da84a6"
      },
      "outputs": [
        {
          "name": "stdout",
          "output_type": "stream",
          "text": [
            "Enter a number: 8\n",
            "You entered an even number\n"
          ]
        }
      ],
      "source": [
        "num = input('Enter a number: ')\n",
        "if int(num)%2 == 0:\n",
        "  print('You entered an even number')\n",
        "else:\n",
        "  print('You entered a odd number')"
      ]
    },
    {
      "cell_type": "markdown",
      "metadata": {
        "id": "eTXb-J__7Xsx"
      },
      "source": [
        "**Activity 11:**\n",
        "\n",
        "Calculate the sum of all the values between 0-10 using while loop."
      ]
    },
    {
      "cell_type": "code",
      "execution_count": null,
      "metadata": {
        "colab": {
          "base_uri": "https://localhost:8080/"
        },
        "id": "yxmIRkVe7ZbD",
        "outputId": "750c67b3-4cc2-4f2a-9405-ee16b69dc29c"
      },
      "outputs": [
        {
          "name": "stdout",
          "output_type": "stream",
          "text": [
            "55\n"
          ]
        }
      ],
      "source": [
        "sum = 0\n",
        "i = 0;\n",
        "while i <= 10:\n",
        "  sum += i\n",
        "  i = i+1\n",
        "print(sum)"
      ]
    },
    {
      "cell_type": "markdown",
      "metadata": {
        "id": "v1Wv9DaB8GAv"
      },
      "source": [
        "**Activity 12:**\n",
        "Accept 5 integer values from user and display their sum. Draw flowchart before coding in python."
      ]
    },
    {
      "cell_type": "code",
      "execution_count": null,
      "metadata": {
        "colab": {
          "base_uri": "https://localhost:8080/"
        },
        "id": "FKojjRzl8lP1",
        "outputId": "d7b97038-c647-4235-9356-689fb700134f"
      },
      "outputs": [
        {
          "name": "stdout",
          "output_type": "stream",
          "text": [
            "Enter a number: 1\n",
            "Enter a number: 2\n",
            "Enter a number: 2\n",
            "Enter a number: 1\n",
            "Enter a number: 1\n",
            "7\n"
          ]
        }
      ],
      "source": [
        "i = int(0)\n",
        "sum = 0\n",
        "while i<5 :\n",
        "  num = int(input('Enter a number: '))\n",
        "  sum = int(sum + num)\n",
        "  i = i + 1\n",
        "print(sum)"
      ]
    },
    {
      "cell_type": "markdown",
      "metadata": {
        "id": "e1FC36Ik9rBR"
      },
      "source": [
        "**Activity 13:**\n",
        "Write a Python code to keep accepting integer values from user until 0 is entered. Display sum of the given values."
      ]
    },
    {
      "cell_type": "code",
      "execution_count": null,
      "metadata": {
        "colab": {
          "base_uri": "https://localhost:8080/"
        },
        "id": "1jv4MtFY9tlg",
        "outputId": "5e98db8d-03e1-4001-993d-9b3210863181"
      },
      "outputs": [
        {
          "name": "stdout",
          "output_type": "stream",
          "text": [
            "Enter a number2\n",
            "Enter a number3\n",
            "Enter a number1\n",
            "Enter a number0\n",
            "6\n"
          ]
        }
      ],
      "source": [
        "sum = int(0)\n",
        "num = int(-1)\n",
        "while num != 0:\n",
        "  num = int(input('Enter a number'))\n",
        "  sum += num\n",
        "print(sum)"
      ]
    },
    {
      "cell_type": "markdown",
      "metadata": {
        "id": "zBsDJlIg-ghL"
      },
      "source": [
        "**Activity 14:**\n",
        "Write a Python code to accept an integer value from user and check that whether the given value is prime number or not."
      ]
    },
    {
      "cell_type": "code",
      "execution_count": null,
      "metadata": {
        "colab": {
          "base_uri": "https://localhost:8080/"
        },
        "id": "DW33ssHK-iis",
        "outputId": "5538765f-1e29-4919-8410-3e5631316079"
      },
      "outputs": [
        {
          "output_type": "stream",
          "name": "stdout",
          "text": [
            "Enter a number: 13\n",
            "The is a prime number\n"
          ]
        }
      ],
      "source": [
        "num = int(input('Enter a number: '))\n",
        "limit = int(num/2)\n",
        "divider = 2\n",
        "Isprime = bool(True)\n",
        "while divider != limit:\n",
        "  if(num % divider == 0):\n",
        "    print('the number is not prime')\n",
        "    Isprime = False\n",
        "    break\n",
        "  else:\n",
        "    divider = divider + 1\n",
        "if Isprime:\n",
        "  print('The is a prime number')\n",
        "\n"
      ]
    },
    {
      "cell_type": "markdown",
      "metadata": {
        "id": "fvUcQ_nlAQzM"
      },
      "source": [
        "**Activity 15:** Write a Python code to accept marks of a student from 1-100 and display the grade according to the following formula."
      ]
    },
    {
      "cell_type": "code",
      "execution_count": null,
      "metadata": {
        "colab": {
          "base_uri": "https://localhost:8080/"
        },
        "id": "GzRRWxgS_rHg",
        "outputId": "5e7c9dfd-1364-4ba3-f160-b8dde4b6c7ad"
      },
      "outputs": [
        {
          "output_type": "stream",
          "name": "stdout",
          "text": [
            "Enter a number: 74\n",
            "C\n"
          ]
        }
      ],
      "source": [
        "num = int(input('Enter a number: '))\n",
        "if ( num < 50):\n",
        " print('fail')\n",
        "elif (num < 61):\n",
        " print('E')\n",
        "elif (num < 71):\n",
        " print('D')\n",
        "elif (num < 81):\n",
        " print('C')\n",
        "elif (num < 91):\n",
        " print('B')\n",
        "elif (num <= 100):\n",
        "  print('A')\n"
      ]
    },
    {
      "cell_type": "markdown",
      "source": [
        "**Activity 16:**\n",
        "Write a program that takes a number from user and calculate the factorial of that number."
      ],
      "metadata": {
        "id": "y0GYBO6EB83o"
      }
    },
    {
      "cell_type": "code",
      "source": [
        "num = int(input('Enter a number: '))\n",
        "i = int(1)\n",
        "fact= int(1)\n",
        "while i <= num:\n",
        "  fact = fact*i\n",
        "  i = i+1\n",
        "print(fact)"
      ],
      "metadata": {
        "colab": {
          "base_uri": "https://localhost:8080/"
        },
        "id": "paohfvKDB-PR",
        "outputId": "4869d03c-3a78-41d7-9bc0-3cae186a315a"
      },
      "execution_count": null,
      "outputs": [
        {
          "output_type": "stream",
          "name": "stdout",
          "text": [
            "Enter a number: 5\n",
            "120\n"
          ]
        }
      ]
    }
  ],
  "metadata": {
    "colab": {
      "provenance": []
    },
    "kernelspec": {
      "display_name": "Python 3",
      "name": "python3"
    },
    "language_info": {
      "name": "python"
    }
  },
  "nbformat": 4,
  "nbformat_minor": 0
}