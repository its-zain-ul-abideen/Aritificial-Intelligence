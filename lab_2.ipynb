{
  "nbformat": 4,
  "nbformat_minor": 0,
  "metadata": {
    "colab": {
      "provenance": [],
      "authorship_tag": "ABX9TyOHbCjX6ha+ybcv5mvkmamB",
      "include_colab_link": true
    },
    "kernelspec": {
      "name": "python3",
      "display_name": "Python 3"
    },
    "language_info": {
      "name": "python"
    }
  },
  "cells": [
    {
      "cell_type": "markdown",
      "metadata": {
        "id": "view-in-github",
        "colab_type": "text"
      },
      "source": [
        "<a href=\"https://colab.research.google.com/github/its-zain-ul-abideen/Aritificial-Intelligence/blob/main/lab_2.ipynb\" target=\"_parent\"><img src=\"https://colab.research.google.com/assets/colab-badge.svg\" alt=\"Open In Colab\"/></a>"
      ]
    },
    {
      "cell_type": "markdown",
      "source": [
        "**Name**: Zain Ul Abideen \n",
        "\n",
        "**Registeration**: FA20-BSE-059\n",
        "\n",
        "\n",
        "---\n",
        "\n",
        "**Activity 1:**\n",
        "Use loops to accept 5 values from user and store them in a list. Display all the values (objects) of the list."
      ],
      "metadata": {
        "id": "_T66HgDpxufk"
      }
    },
    {
      "cell_type": "code",
      "execution_count": null,
      "metadata": {
        "colab": {
          "base_uri": "https://localhost:8080/"
        },
        "id": "7pYPJjNGuBl7",
        "outputId": "da2bc630-32f2-492b-e029-674dadb8cec0"
      },
      "outputs": [
        {
          "output_type": "stream",
          "name": "stdout",
          "text": [
            "Enter a value: 52\n",
            "Enter a value: 56\n",
            "Enter a value: 43\n",
            "Enter a value: 78\n",
            "Enter a value: 67\n",
            "listt: ['52', '56', '43', '78', '67']\n"
          ]
        }
      ],
      "source": [
        "listt = []\n",
        "for i in range(5):\n",
        "  val = input(\"Enter a value: \")\n",
        "  listt.append(val)\n",
        "print(\"listt: \" + str(listt))"
      ]
    },
    {
      "cell_type": "markdown",
      "source": [
        "**Activity 2:**\n",
        "Repeat the above code by accepting 5 integer values from user. Store these values in a list and display the sum of given values."
      ],
      "metadata": {
        "id": "_bzQen1Kyro4"
      }
    },
    {
      "cell_type": "code",
      "source": [
        "intlistt=[]\n",
        "for i in range(5):\n",
        "  num = int(input(\"Enter the number: \"))\n",
        "  intlistt.append(num)\n",
        "sum = 0\n",
        "for i in intlistt:\n",
        "  sum += i\n",
        "print(sum)"
      ],
      "metadata": {
        "colab": {
          "base_uri": "https://localhost:8080/"
        },
        "id": "e8CfDwjByt_R",
        "outputId": "96d09843-716f-493d-a387-ef2b783af5e1"
      },
      "execution_count": null,
      "outputs": [
        {
          "output_type": "stream",
          "name": "stdout",
          "text": [
            "Enter the number: 1\n",
            "Enter the number: 2\n",
            "Enter the number: 3\n",
            "Enter the number: 1\n",
            "Enter the number: 1\n",
            "8\n"
          ]
        }
      ]
    },
    {
      "cell_type": "code",
      "source": [
        "intlistt=[]\n",
        "for i in range(5):\n",
        "  num = int(input(\"Enter the number: \"))\n",
        "  intlistt.append(num)\n",
        "value = int(input('Provide a value: '))\n",
        "index = int(-1)\n",
        "for i in intlistt:\n",
        "  index = index + 1\n",
        "  if value == i:\n",
        "    print(\"The index is: \" + str(index))\n",
        "    break\n",
        "    \n"
      ],
      "metadata": {
        "colab": {
          "base_uri": "https://localhost:8080/"
        },
        "id": "ocY2KS5E0e8t",
        "outputId": "1c5b281b-67e1-4e95-e6fc-59945abd7c87"
      },
      "execution_count": null,
      "outputs": [
        {
          "output_type": "stream",
          "name": "stdout",
          "text": [
            "Enter the number: 45\n",
            "Enter the number: 65\n",
            "Enter the number: 76\n",
            "Enter the number: 34\n",
            "Enter the number: 2\n",
            "Provide a value: 76\n",
            "The index is: 2\n"
          ]
        }
      ]
    },
    {
      "cell_type": "markdown",
      "source": [
        "**Activity 3:**\n",
        "Accept 5 integer values from user. Store these values in a list and display the list in ascending order."
      ],
      "metadata": {
        "id": "a_sig3u93TPQ"
      }
    },
    {
      "cell_type": "code",
      "source": [
        "listt = []\n",
        "for i in range(5):\n",
        "  num = int(input('Enter a number: '))\n",
        "  listt.append(num)\n",
        "listt.sort()\n",
        "print(listt)\n",
        "print(max(listt))\n",
        "print(min(listt))"
      ],
      "metadata": {
        "colab": {
          "base_uri": "https://localhost:8080/"
        },
        "id": "j7nbdxXd3-Um",
        "outputId": "56e73d60-4dc8-4c87-e1df-8836e916ce28"
      },
      "execution_count": null,
      "outputs": [
        {
          "output_type": "stream",
          "name": "stdout",
          "text": [
            "Enter a number: 45\n",
            "Enter a number: 23\n",
            "Enter a number: 64\n",
            "Enter a number: 85\n",
            "Enter a number: 36\n",
            "[23, 36, 45, 64, 85]\n",
            "85\n",
            "23\n"
          ]
        }
      ]
    },
    {
      "cell_type": "markdown",
      "source": [
        "\n",
        "**Activity 4:**\n",
        "\n",
        "Accept two lists from user and display their join."
      ],
      "metadata": {
        "id": "W3FSMCwH6Bpk"
      }
    },
    {
      "cell_type": "code",
      "source": [
        "list1 = []\n",
        "list2 = []\n",
        "print(\"values for list 1\")\n",
        "for i in  range(5):\n",
        "  num = int(input(\"Enter: \"))\n",
        "  list1.append(num)\n",
        "for i in range(5):\n",
        "  num = int(input(\"Enter: \"))\n",
        "  list2.append(num)\n",
        "list3 = list1 + list2\n",
        "print(list3)"
      ],
      "metadata": {
        "colab": {
          "base_uri": "https://localhost:8080/"
        },
        "id": "jOzfDzN278gB",
        "outputId": "3349fb49-4ec9-4fd3-f100-4f4d2225f105"
      },
      "execution_count": null,
      "outputs": [
        {
          "output_type": "stream",
          "name": "stdout",
          "text": [
            "values for list 1\n",
            "Enter: 23\n",
            "Enter: 54\n",
            "Enter: 76\n",
            "Enter: 45\n",
            "Enter: 3\n",
            "Enter: 65\n",
            "Enter: 76\n",
            "Enter: 34\n",
            "Enter: 76\n",
            "Enter: 365\n",
            "[23, 54, 76, 45, 3, 65, 76, 34, 76, 365]\n"
          ]
        }
      ]
    },
    {
      "cell_type": "markdown",
      "source": [
        "**Activity 5:**\n",
        "Write a Python code to accept a list from user and find a required element in it."
      ],
      "metadata": {
        "id": "qlTCdM-C-_kz"
      }
    },
    {
      "cell_type": "code",
      "source": [
        "list1 = []\n",
        "for i in range(5):\n",
        "  num = int(input(\"Enter a number: \"))\n",
        "  list1.append(num)\n",
        "N = int(input(\"Enter the value to find: \"))\n",
        "found = N in list1\n",
        "if found==True:\n",
        "  print(\"Value found\")\n",
        "else:\n",
        "  print(\"Value not found\")"
      ],
      "metadata": {
        "colab": {
          "base_uri": "https://localhost:8080/"
        },
        "id": "sDMu0suc_DQe",
        "outputId": "b4fd82fd-e76d-4b17-ad79-c42e7db05b58"
      },
      "execution_count": null,
      "outputs": [
        {
          "output_type": "stream",
          "name": "stdout",
          "text": [
            "Enter a number: 54\n",
            "Enter a number: 76\n",
            "Enter a number: 36\n",
            "Enter a number: 85\n",
            "Enter a number: 38\n",
            "Enter the value to find: 24\n",
            "Value not found\n"
          ]
        }
      ]
    },
    {
      "cell_type": "markdown",
      "source": [
        "**Activity 6:**\n",
        "Write a function called say_hello that takes in a person’s name as a parameter. The function should print a greeting message with the person’s name. Then call the function three times with three different names."
      ],
      "metadata": {
        "id": "QyTLzXYOBIaG"
      }
    },
    {
      "cell_type": "code",
      "source": [
        "def callout (name):\n",
        "  print(\"Hello  \" + name)\n",
        "\n",
        "for i in range(3):\n",
        "  name = input(\"Enter your name: \")\n",
        "  callout(name)\n"
      ],
      "metadata": {
        "colab": {
          "base_uri": "https://localhost:8080/"
        },
        "id": "sSMqFhjjBjml",
        "outputId": "b2c5610a-ec46-4c1d-dd85-94635b7ce134"
      },
      "execution_count": null,
      "outputs": [
        {
          "output_type": "stream",
          "name": "stdout",
          "text": [
            "Enter your name: Zain\n",
            "Hello  Zain\n",
            "Enter your name: Ahmad\n",
            "Hello  Ahmad\n",
            "Enter your name: Taha\n",
            "Hello  Taha\n"
          ]
        }
      ]
    },
    {
      "cell_type": "code",
      "source": [
        "c = []\n",
        "c.append([0,1,0])\n",
        "c.append([1,0,0])\n",
        "c.append([0,0,1])\n",
        "print(c)"
      ],
      "metadata": {
        "colab": {
          "base_uri": "https://localhost:8080/"
        },
        "id": "vLIHJEneLtit",
        "outputId": "20c89201-2c62-4b4b-e4b7-bca912543332"
      },
      "execution_count": null,
      "outputs": [
        {
          "output_type": "stream",
          "name": "stdout",
          "text": [
            "[[0, 1, 0], [1, 0, 0], [0, 0, 1]]\n"
          ]
        }
      ]
    },
    {
      "cell_type": "markdown",
      "source": [
        "**Activity 7:** Write a function in python that receives a string and returns True if that string is a palindrome and False otherwise. Remember that difference between upper and lower case characters are ignored during this determination."
      ],
      "metadata": {
        "id": "49TVEnwfH6za"
      }
    },
    {
      "cell_type": "code",
      "source": [
        "def palindrome(word):\n",
        "  temp = word[::-1]\n",
        "  if temp.capitalize() == word.capitalize():\n",
        "    print(\"The word is palindrome\")\n",
        "  else:\n",
        "    print(\"word is not palindrome\")\n",
        "palindrome(\"MAM\")\n",
        "palindrome(\"DADA\")\n",
        "  "
      ],
      "metadata": {
        "colab": {
          "base_uri": "https://localhost:8080/"
        },
        "id": "oOoN2Yy0IAqb",
        "outputId": "6039dff3-6475-4664-a55d-80961e70f35b"
      },
      "execution_count": null,
      "outputs": [
        {
          "output_type": "stream",
          "name": "stdout",
          "text": [
            "The word is palindrome\n",
            "word is not palindrome\n"
          ]
        }
      ]
    },
    {
      "cell_type": "markdown",
      "source": [
        "**Activity 8:**\n",
        "\n",
        "Imagine two matrices given in the form of 2D lists as under;\n",
        "\n",
        "\n",
        "a = [[1, 0, 0], [0, 1, 0], [0, 0, 1] ]\n",
        "\n",
        "b = [[1, 2, 3], [4, 5, 6], [7, 8, 9] ]\n",
        "\n",
        "\n",
        "Write a python code that finds another matrix/2D list that is a product of and b, i.e.,\n",
        "\n",
        "C=a*b"
      ],
      "metadata": {
        "id": "T1csTfnXeg7s"
      }
    },
    {
      "cell_type": "code",
      "source": [
        "a = [[1, 0, 0], [0, 1, 0], [0, 0, 1] ]\n",
        "b = [[1, 2, 3], [4, 5, 6], [7, 8, 9] ]\n",
        "c= []\n",
        "for i in range(3):\n",
        "  c.append([])\n",
        "  for j in range(3):\n",
        "    c[i].append(0)\n",
        "    for k in range(3):\n",
        "      c[i][j] += a[i][k]*b[k][j]\n",
        "for i in c:\n",
        "  print(i);"
      ],
      "metadata": {
        "colab": {
          "base_uri": "https://localhost:8080/"
        },
        "id": "rY7K3uEqemGP",
        "outputId": "c441d640-cb0c-49a6-db7f-42b3a0e645dd"
      },
      "execution_count": null,
      "outputs": [
        {
          "output_type": "stream",
          "name": "stdout",
          "text": [
            "[1, 2, 3]\n",
            "[4, 5, 6]\n",
            "[7, 8, 9]\n"
          ]
        }
      ]
    },
    {
      "cell_type": "markdown",
      "source": [
        "**Activity 9**\n",
        "Calculate the perimeter of the plygon with given coordinates"
      ],
      "metadata": {
        "id": "pNWEqwc1470w"
      }
    },
    {
      "cell_type": "code",
      "source": [
        "def perimeter(listing):\n",
        "  leng= len(listing)\n",
        "  perimeter = 0\n",
        "  for i in range(0,leng-1):\n",
        "    dist = (((listing[i][0]-listing[i+1][0])**2)+((listing[i][1]-listing[i+1][1])**2))**0.5\n",
        "    perimeter = perimeter + dist\n",
        "  perimeter = perimeter + (((listing[0][0]-listing[leng-1][0])**2)+((listing[0][1]-listing[leng-1][1])**2))**0.5\n",
        "  return perimeter\n",
        "L=[(1,3),(2,7),(3,9),(-1,8)]\n",
        "print(perimeter(L))"
      ],
      "metadata": {
        "colab": {
          "base_uri": "https://localhost:8080/"
        },
        "id": "oS2nQM-p5JmF",
        "outputId": "1bd4b213-c0ba-438b-b444-60d796a349b9"
      },
      "execution_count": null,
      "outputs": [
        {
          "output_type": "stream",
          "name": "stdout",
          "text": [
            "15.867444035869614\n"
          ]
        }
      ]
    },
    {
      "cell_type": "markdown",
      "source": [
        "**Activity 10**:\n",
        "Symmetric difference"
      ],
      "metadata": {
        "id": "QIGXe5ORQfAM"
      }
    },
    {
      "cell_type": "code",
      "source": [
        "def symmdiff(a,b):\n",
        "  e = set()\n",
        "  for i in a:\n",
        "    if i not in b:\n",
        "      e.add(i)\n",
        "  for i in b:\n",
        "    if i not in a:\n",
        "      e.add(i)\n",
        "  return e\n",
        "set1 = {0,1,2,4,5}\n",
        "set2 = {4,5,7,8,9}\n",
        "print(symmdiff(set1,set2))\n",
        "\n",
        "print(set1.symmetric_difference(set2))\n",
        "print(set2.symmetric_difference(set1))\n",
        "print(set1^set2)\n",
        "print(set2^set2)"
      ],
      "metadata": {
        "colab": {
          "base_uri": "https://localhost:8080/"
        },
        "id": "CRcrJEyTRCTF",
        "outputId": "3a3596f4-7974-4951-d4ef-c0df8ef24af2"
      },
      "execution_count": 1,
      "outputs": [
        {
          "output_type": "stream",
          "name": "stdout",
          "text": [
            "{0, 1, 2, 7, 8, 9}\n",
            "{0, 1, 2, 7, 8, 9}\n",
            "{0, 1, 2, 7, 8, 9}\n",
            "{0, 1, 2, 7, 8, 9}\n",
            "set()\n"
          ]
        }
      ]
    },
    {
      "cell_type": "markdown",
      "source": [
        "**Activity 11:**\n",
        "Create a Python program that contains a dictionary of names and phone numbers. Use a tuple of separate first and last name values for the key field. Initialize the dictionary with at least three names and numbers. Ask the user to search for a phone number by entering a first and last name. Display the matching number if found, or a message if not found."
      ],
      "metadata": {
        "id": "i1ngSjNtMdIq"
      }
    },
    {
      "cell_type": "code",
      "source": [
        "sample = {('Sohaib','Anwar'):'04233443245',('Ahsan','Sohaib'):'03402234'}\n",
        "firstname = input(\"Enter first name:\")\n",
        "secondn = input(\"Enter second name\")\n",
        "searchtuple = (firstname,secondn)\n",
        "if searchtuple in sample:\n",
        "  print(sample[searchtuple])"
      ],
      "metadata": {
        "colab": {
          "base_uri": "https://localhost:8080/"
        },
        "id": "FuNRz_--MlRZ",
        "outputId": "a1a56453-2846-4bc2-db30-a141495c0132"
      },
      "execution_count": 3,
      "outputs": [
        {
          "output_type": "stream",
          "name": "stdout",
          "text": [
            "Enter first name:Ahsan\n",
            "Enter second nameSohaib\n",
            "03402234\n"
          ]
        }
      ]
    }
  ]
}