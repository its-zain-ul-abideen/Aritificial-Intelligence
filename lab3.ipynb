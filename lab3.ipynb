{
  "nbformat": 4,
  "nbformat_minor": 0,
  "metadata": {
    "colab": {
      "provenance": [],
      "authorship_tag": "ABX9TyOXO334de4LywDk/uMh0fWa",
      "include_colab_link": true
    },
    "kernelspec": {
      "name": "python3",
      "display_name": "Python 3"
    },
    "language_info": {
      "name": "python"
    }
  },
  "cells": [
    {
      "cell_type": "markdown",
      "metadata": {
        "id": "view-in-github",
        "colab_type": "text"
      },
      "source": [
        "<a href=\"https://colab.research.google.com/github/its-zain-ul-abideen/Aritificial-Intelligence/blob/main/lab3.ipynb\" target=\"_parent\"><img src=\"https://colab.research.google.com/assets/colab-badge.svg\" alt=\"Open In Colab\"/></a>"
      ]
    },
    {
      "cell_type": "markdown",
      "source": [
        "**BASIC:**\n"
      ],
      "metadata": {
        "id": "QOzELhDsArYN"
      }
    },
    {
      "cell_type": "code",
      "execution_count": null,
      "metadata": {
        "id": "hKfWD33iAlFh",
        "colab": {
          "base_uri": "https://localhost:8080/"
        },
        "outputId": "17c0ba30-8814-4be3-926a-8fc44b7bac7b"
      },
      "outputs": [
        {
          "output_type": "execute_result",
          "data": {
            "text/plain": [
              "['D', 'B', 'E', 'A', 'C', 'F']"
            ]
          },
          "metadata": {},
          "execution_count": 17
        }
      ],
      "source": [
        "def BFS (currnode,graph,goal):\n",
        "  visited = []\n",
        "  queue = []\n",
        "  queue.append(currnode)\n",
        "  while queue:\n",
        "    temp = queue.pop(0)\n",
        "    visited.append(temp)\n",
        "    for x in graph[temp]:\n",
        "      if x not in visited and x not in queue:\n",
        "        queue.append(x)\n",
        "        if x == goal:\n",
        "          visited.append(goal)\n",
        "          return visited\n",
        "        \n",
        "\n",
        "graph = {'A':['B','E','C'],\n",
        "         'B':['A','E','D'],\n",
        "         'C':['A','F','G'],\n",
        "         'D':['B','E'],\n",
        "         'E':['A','B','D'],\n",
        "         'F':['C'],\n",
        "         'G':['C']\n",
        "         }\n",
        "BFS('D',graph,'F')"
      ]
    },
    {
      "cell_type": "code",
      "source": [],
      "metadata": {
        "id": "EaiY1Re0-Sux"
      },
      "execution_count": null,
      "outputs": []
    },
    {
      "cell_type": "code",
      "source": [
        "class node:\n",
        "  def __init__(self,state,parent,actions,totalcost):\n",
        "    self.state = state\n",
        "    self.parent = parent\n",
        "    self.actions = actions\n",
        "    self.totalcost = totalcost\n",
        "\n",
        "def actionSequence(graph,initialstate,goalstate):\n",
        "  solution = [goalstate]\n",
        "  currentparent = graph[goalstate].parent\n",
        "  \n",
        "  while currentparent != None:\n",
        "    \n",
        "    solution.append(currentparent)\n",
        "    currentparent = graph[currentparent].parent\n",
        "\n",
        "  solution.reverse()\n",
        "  return solution\n",
        "\n",
        "def bfs():\n",
        "  initialstate = 'D'\n",
        "  goalstate = 'F'\n",
        "  graph = {'A': node('A',None,['B','C','E'],None),\n",
        "           'B': node('B',None,['A','D','E'],None),\n",
        "           'C': node('C',None,['A','F','G'],None),\n",
        "           'D': node('D',None,['B','E'],None),\n",
        "           'E': node('E',None,['A','B','D'],None),\n",
        "           'F': node('F',None,['C'],None),\n",
        "           'G': node('G',None,['C'],None)\n",
        "          }\n",
        "  frontier = [initialstate]\n",
        "  explored = []\n",
        "  while frontier:\n",
        "    currentnode = frontier.pop(0)\n",
        "    explored.append(currentnode)\n",
        "    for child in graph[currentnode].actions:\n",
        "      if child not in frontier and child not in explored:\n",
        "        graph[child].parent = currentnode\n",
        "        if graph[child].state == goalstate:\n",
        "          return actionSequence(graph,initialstate,goalstate)\n",
        "        frontier.append(child)\n",
        "solution = bfs()\n",
        "print(solution)\n",
        "\n",
        "  "
      ],
      "metadata": {
        "id": "PM_GOsyTMK7d",
        "colab": {
          "base_uri": "https://localhost:8080/"
        },
        "outputId": "c969658a-0409-401c-9d8f-cd47ac3d4797"
      },
      "execution_count": null,
      "outputs": [
        {
          "output_type": "stream",
          "name": "stdout",
          "text": [
            "['D', 'B', 'A', 'C', 'F']\n"
          ]
        }
      ]
    },
    {
      "cell_type": "markdown",
      "source": [
        "me"
      ],
      "metadata": {
        "id": "-nw7AFCHX_40"
      }
    },
    {
      "cell_type": "code",
      "source": [
        "class node:\n",
        " def __init__(self,state,parent,actions):\n",
        "   self.state = state\n",
        "   "
      ],
      "metadata": {
        "id": "DsaW17RQYAqX"
      },
      "execution_count": null,
      "outputs": []
    }
  ]
}